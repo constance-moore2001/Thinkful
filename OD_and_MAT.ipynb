{
  "nbformat": 4,
  "nbformat_minor": 0,
  "metadata": {
    "colab": {
      "name": "OD and MAT.ipynb",
      "provenance": [],
      "collapsed_sections": [
        "9GcXcMHM4OMa"
      ],
      "authorship_tag": "ABX9TyNmXG76M9GyKYnR9eUccnv3",
      "include_colab_link": true
    },
    "kernelspec": {
      "name": "python3",
      "display_name": "Python 3"
    }
  },
  "cells": [
    {
      "cell_type": "markdown",
      "metadata": {
        "id": "view-in-github",
        "colab_type": "text"
      },
      "source": [
        "<a href=\"https://colab.research.google.com/github/constance-moore2001/Thinkful/blob/master/OD_and_MAT.ipynb\" target=\"_parent\"><img src=\"https://colab.research.google.com/assets/colab-badge.svg\" alt=\"Open In Colab\"/></a>"
      ]
    },
    {
      "cell_type": "markdown",
      "metadata": {
        "id": "9GcXcMHM4OMa",
        "colab_type": "text"
      },
      "source": [
        "# **1. Introduction:**\n",
        "\n",
        "Substance Use Disorder is of significant concern in the US, in particular drug related overdose. I propose to investigate geographical differencess in drug related overdose; and whether or not Medication-Assisted Treatment (MAT) is associated with a reduction in drug related overdose in CA.\n",
        "\n",
        "The questions and hypotheses are:\n",
        "\n",
        "1: Are there geographic differences in drug overdose deaths?\n",
        "  I hypothesize that deaths due to drug overdose will be higher in regions with lower socioeconomic status.\n",
        "\n",
        "2: Is there a correlation between drug overdose and MAT for California?\n",
        "  I hypothesize that deaths due to drug overdose will decrease with increasing MAT.\n"
      ]
    },
    {
      "cell_type": "markdown",
      "metadata": {
        "id": "jn0ceq7j5hxi",
        "colab_type": "text"
      },
      "source": [
        ""
      ]
    },
    {
      "cell_type": "markdown",
      "metadata": {
        "id": "UHgH1keU5oV0",
        "colab_type": "text"
      },
      "source": [
        "# **2. Data and Method:**\n",
        "\n",
        "Data for this proposal came from HealthData.gov:\n",
        "\n",
        "1: Vital Statistics Rapid Release Provisional Drug Overdose Death Counts (VSSR) - https://healthdata.gov/dataset/vsrr-provisional-drug-overdose-death-counts\n",
        "\n",
        "2: Medication-Assisted Treatment in Medi-Cal for Opioid Use Disorders, by Count (MAT) - https://healthdata.gov/dataset/medication-assisted-treatment-medi-cal-opioid-use-disorders-county\n",
        "\n",
        "The ***VSSR*** data is a CSV file and linkable. The set contains 12 columns and 28544 rows, with data from 49 states (does not incude HI), District of Columbia, and NYC. The data is quarterly from 2015 to 2019:\n",
        "\n",
        "1: State (Abbreviated state name)\n",
        "\n",
        "2: Year (2015, 2016, 2017, 2018, 2019)\n",
        "\n",
        "3: Month (Varied)                          \n",
        "\n",
        "4: Period (12-month ending)                      \n",
        "\n",
        "5: Indicator (Drug name, overdose deaths, total deaths)\n",
        "\n",
        "6: Data Value (NaN for drug name, number of overdose deaths, number of total deaths)\n",
        "\n",
        "7: Percent Complete (Percent deaths not under investigation)\n",
        "\n",
        "8: Percent Pending Investigation (Percent deaths not under investigation)\n",
        "\n",
        "9: State Name (Complete state name)\n",
        "\n",
        "10: Footnote                         \n",
        "\n",
        "11: Footnote Symbol                 \n",
        "\n",
        "12: Predicted Value (Predicted deaths).\n",
        "\n",
        "The ***MAT*** data is a CSV file and linkable. The set contains 1429 rows and 6 columns, with data from CA as a wole and each county. The data is yearly from 2010 to 2018:\n",
        "\n",
        "1: County (CA and CA counties)       \n",
        "\n",
        "2: Year (2010 through 2018)                     \n",
        "\n",
        "3: Beneficiaries (Number of people receiveing MAT through Medi-Cal)\n",
        "\n",
        "4: MAT (Buprenorphine, Methadone Program, Naloxone)\t\t            \n",
        "\n",
        "5: Annotation                \n",
        "\n",
        "6: Annotation Description.\n",
        "\n",
        "For the first question, I will divide the data by time zones, pooling for Pacific Time, Mountain Times, Central and Eastern. If the data is normal, I will use a one way Anova, otherwise the Kruskal-Wallis test. A post-hoc analysis will be conducted to look for specific differences, if this is indicated.\n",
        "\n",
        "For the second question I will look at the MAT data for CA, and the drug overdose deaths for CA from 2015 to 2019, using pearson’s correlation, or spearman’s rho if non-parametric.\n"
      ]
    },
    {
      "cell_type": "markdown",
      "metadata": {
        "id": "0o8TQdHDLTkm",
        "colab_type": "text"
      },
      "source": [
        "# **3. Data Preparation and Exploration Question 1**\n",
        "\n",
        "Are there geographic differences in drug overdose deaths? I hypothesize that deaths due to drug overdose will be higher in regions with lower socioeconomic status."
      ]
    },
    {
      "cell_type": "code",
      "metadata": {
        "id": "2c__U-74Ldcz",
        "colab_type": "code",
        "colab": {}
      },
      "source": [
        "import math\n",
        "import pandas as pd\n",
        "import numpy as np\n",
        "from scipy import stats\n",
        "import matplotlib.pyplot as plt\n",
        "import seaborn as sns\n",
        "import datetime "
      ],
      "execution_count": 0,
      "outputs": []
    },
    {
      "cell_type": "code",
      "metadata": {
        "id": "pZ91xT3yLiI7",
        "colab_type": "code",
        "outputId": "1ad179ab-afed-43a0-af1d-971b8bc281f5",
        "colab": {
          "base_uri": "https://localhost:8080/",
          "height": 302
        }
      },
      "source": [
        "CDC_state_deaths = pd.read_csv(\"https://data.cdc.gov/api/views/xkb8-kh2a/rows.csv?accessType=DOWNLOAD\")\n",
        "CDC_state_deaths.info()"
      ],
      "execution_count": 0,
      "outputs": [
        {
          "output_type": "stream",
          "text": [
            "<class 'pandas.core.frame.DataFrame'>\n",
            "RangeIndex: 28545 entries, 0 to 28544\n",
            "Data columns (total 12 columns):\n",
            "State                            28545 non-null object\n",
            "Year                             28545 non-null int64\n",
            "Month                            28545 non-null object\n",
            "Period                           28545 non-null object\n",
            "Indicator                        28545 non-null object\n",
            "Data Value                       23677 non-null float64\n",
            "Percent Complete                 28545 non-null object\n",
            "Percent Pending Investigation    28545 non-null float64\n",
            "State Name                       28545 non-null object\n",
            "Footnote                         28545 non-null object\n",
            "Footnote Symbol                  28545 non-null object\n",
            "Predicted Value                  18021 non-null float64\n",
            "dtypes: float64(3), int64(1), object(8)\n",
            "memory usage: 2.6+ MB\n"
          ],
          "name": "stdout"
        }
      ]
    },
    {
      "cell_type": "code",
      "metadata": {
        "id": "amVrBOudL0sJ",
        "colab_type": "code",
        "outputId": "7d463532-793a-4baf-c636-157ac3c64c96",
        "colab": {
          "base_uri": "https://localhost:8080/",
          "height": 380
        }
      },
      "source": [
        "CDC_state_deaths.head()"
      ],
      "execution_count": 0,
      "outputs": [
        {
          "output_type": "execute_result",
          "data": {
            "text/html": [
              "<div>\n",
              "<style scoped>\n",
              "    .dataframe tbody tr th:only-of-type {\n",
              "        vertical-align: middle;\n",
              "    }\n",
              "\n",
              "    .dataframe tbody tr th {\n",
              "        vertical-align: top;\n",
              "    }\n",
              "\n",
              "    .dataframe thead th {\n",
              "        text-align: right;\n",
              "    }\n",
              "</style>\n",
              "<table border=\"1\" class=\"dataframe\">\n",
              "  <thead>\n",
              "    <tr style=\"text-align: right;\">\n",
              "      <th></th>\n",
              "      <th>State</th>\n",
              "      <th>Year</th>\n",
              "      <th>Month</th>\n",
              "      <th>Period</th>\n",
              "      <th>Indicator</th>\n",
              "      <th>Data Value</th>\n",
              "      <th>Percent Complete</th>\n",
              "      <th>Percent Pending Investigation</th>\n",
              "      <th>State Name</th>\n",
              "      <th>Footnote</th>\n",
              "      <th>Footnote Symbol</th>\n",
              "      <th>Predicted Value</th>\n",
              "    </tr>\n",
              "  </thead>\n",
              "  <tbody>\n",
              "    <tr>\n",
              "      <th>0</th>\n",
              "      <td>AK</td>\n",
              "      <td>2015</td>\n",
              "      <td>April</td>\n",
              "      <td>12 month-ending</td>\n",
              "      <td>Cocaine (T40.5)</td>\n",
              "      <td>NaN</td>\n",
              "      <td>100</td>\n",
              "      <td>0.0</td>\n",
              "      <td>Alaska</td>\n",
              "      <td>Numbers may differ from published reports usin...</td>\n",
              "      <td>**</td>\n",
              "      <td>NaN</td>\n",
              "    </tr>\n",
              "    <tr>\n",
              "      <th>1</th>\n",
              "      <td>AK</td>\n",
              "      <td>2015</td>\n",
              "      <td>April</td>\n",
              "      <td>12 month-ending</td>\n",
              "      <td>Heroin (T40.1)</td>\n",
              "      <td>NaN</td>\n",
              "      <td>100</td>\n",
              "      <td>0.0</td>\n",
              "      <td>Alaska</td>\n",
              "      <td>Numbers may differ from published reports usin...</td>\n",
              "      <td>**</td>\n",
              "      <td>NaN</td>\n",
              "    </tr>\n",
              "    <tr>\n",
              "      <th>2</th>\n",
              "      <td>AK</td>\n",
              "      <td>2015</td>\n",
              "      <td>April</td>\n",
              "      <td>12 month-ending</td>\n",
              "      <td>Natural &amp; semi-synthetic opioids (T40.2)</td>\n",
              "      <td>NaN</td>\n",
              "      <td>100</td>\n",
              "      <td>0.0</td>\n",
              "      <td>Alaska</td>\n",
              "      <td>Numbers may differ from published reports usin...</td>\n",
              "      <td>**</td>\n",
              "      <td>NaN</td>\n",
              "    </tr>\n",
              "    <tr>\n",
              "      <th>3</th>\n",
              "      <td>AK</td>\n",
              "      <td>2015</td>\n",
              "      <td>April</td>\n",
              "      <td>12 month-ending</td>\n",
              "      <td>Percent with drugs specified</td>\n",
              "      <td>88.095238</td>\n",
              "      <td>100</td>\n",
              "      <td>0.0</td>\n",
              "      <td>Alaska</td>\n",
              "      <td>Numbers may differ from published reports usin...</td>\n",
              "      <td>**</td>\n",
              "      <td>NaN</td>\n",
              "    </tr>\n",
              "    <tr>\n",
              "      <th>4</th>\n",
              "      <td>AK</td>\n",
              "      <td>2015</td>\n",
              "      <td>April</td>\n",
              "      <td>12 month-ending</td>\n",
              "      <td>Opioids (T40.0-T40.4,T40.6)</td>\n",
              "      <td>NaN</td>\n",
              "      <td>100</td>\n",
              "      <td>0.0</td>\n",
              "      <td>Alaska</td>\n",
              "      <td>Numbers may differ from published reports usin...</td>\n",
              "      <td>**</td>\n",
              "      <td>NaN</td>\n",
              "    </tr>\n",
              "  </tbody>\n",
              "</table>\n",
              "</div>"
            ],
            "text/plain": [
              "  State  Year  ... Footnote Symbol Predicted Value\n",
              "0    AK  2015  ...              **             NaN\n",
              "1    AK  2015  ...              **             NaN\n",
              "2    AK  2015  ...              **             NaN\n",
              "3    AK  2015  ...              **             NaN\n",
              "4    AK  2015  ...              **             NaN\n",
              "\n",
              "[5 rows x 12 columns]"
            ]
          },
          "metadata": {
            "tags": []
          },
          "execution_count": 13
        }
      ]
    },
    {
      "cell_type": "markdown",
      "metadata": {
        "id": "xZyd5-dfMA03",
        "colab_type": "text"
      },
      "source": [
        "3.1. Extract rows from Indicator: number of overdose deaths, number of total deaths. Drop columns not of interest and rename, Indicator column."
      ]
    },
    {
      "cell_type": "code",
      "metadata": {
        "id": "MVkRTF_DMFtG",
        "colab_type": "code",
        "colab": {}
      },
      "source": [
        "OD_deaths = CDC_state_deaths[CDC_state_deaths['Indicator']=='Number of Drug Overdose Deaths']\n",
        "all_deaths = CDC_state_deaths[CDC_state_deaths['Indicator']=='Number of Deaths']\n",
        "OD_deaths_clean = OD_deaths.drop([\"Period\", 'Indicator', \"Percent Complete\", 'Percent Pending Investigation', 'State Name', 'Footnote', 'Footnote Symbol', 'Predicted Value'], axis=1)\n",
        "OD_deaths_clean.rename(columns={'Data Value':'ODDeaths'}, inplace=True)\n",
        "all_deaths_clean = all_deaths.drop([\"Period\", 'Indicator', \"Percent Complete\", 'Percent Pending Investigation', 'State Name', 'Footnote', 'Footnote Symbol', 'Predicted Value'], axis=1)\n",
        "all_deaths_clean.rename(columns={'Data Value':'AllDeaths'}, inplace=True)"
      ],
      "execution_count": 0,
      "outputs": []
    },
    {
      "cell_type": "markdown",
      "metadata": {
        "id": "xbBLYzGWM1OQ",
        "colab_type": "text"
      },
      "source": [
        "3.2. Merge OD_deaths and all_deaths into a single dataframe."
      ]
    },
    {
      "cell_type": "code",
      "metadata": {
        "id": "IE0E2wrcM_fQ",
        "colab_type": "code",
        "outputId": "6f896a6c-5263-4944-fb2c-dbc3879a6a8a",
        "colab": {
          "base_uri": "https://localhost:8080/",
          "height": 195
        }
      },
      "source": [
        "state_OD_all_deaths = all_deaths_clean.merge(OD_deaths_clean, how = 'inner', on = ['State', 'Year', 'Month'])\n",
        "state_OD_all_deaths.head()"
      ],
      "execution_count": 0,
      "outputs": [
        {
          "output_type": "execute_result",
          "data": {
            "text/html": [
              "<div>\n",
              "<style scoped>\n",
              "    .dataframe tbody tr th:only-of-type {\n",
              "        vertical-align: middle;\n",
              "    }\n",
              "\n",
              "    .dataframe tbody tr th {\n",
              "        vertical-align: top;\n",
              "    }\n",
              "\n",
              "    .dataframe thead th {\n",
              "        text-align: right;\n",
              "    }\n",
              "</style>\n",
              "<table border=\"1\" class=\"dataframe\">\n",
              "  <thead>\n",
              "    <tr style=\"text-align: right;\">\n",
              "      <th></th>\n",
              "      <th>State</th>\n",
              "      <th>Year</th>\n",
              "      <th>Month</th>\n",
              "      <th>AllDeaths</th>\n",
              "      <th>ODDeaths</th>\n",
              "    </tr>\n",
              "  </thead>\n",
              "  <tbody>\n",
              "    <tr>\n",
              "      <th>0</th>\n",
              "      <td>AK</td>\n",
              "      <td>2015</td>\n",
              "      <td>April</td>\n",
              "      <td>4133.0</td>\n",
              "      <td>126.0</td>\n",
              "    </tr>\n",
              "    <tr>\n",
              "      <th>1</th>\n",
              "      <td>AK</td>\n",
              "      <td>2015</td>\n",
              "      <td>August</td>\n",
              "      <td>4222.0</td>\n",
              "      <td>124.0</td>\n",
              "    </tr>\n",
              "    <tr>\n",
              "      <th>2</th>\n",
              "      <td>AK</td>\n",
              "      <td>2015</td>\n",
              "      <td>December</td>\n",
              "      <td>4193.0</td>\n",
              "      <td>121.0</td>\n",
              "    </tr>\n",
              "    <tr>\n",
              "      <th>3</th>\n",
              "      <td>AK</td>\n",
              "      <td>2015</td>\n",
              "      <td>February</td>\n",
              "      <td>4084.0</td>\n",
              "      <td>127.0</td>\n",
              "    </tr>\n",
              "    <tr>\n",
              "      <th>4</th>\n",
              "      <td>AK</td>\n",
              "      <td>2015</td>\n",
              "      <td>January</td>\n",
              "      <td>4034.0</td>\n",
              "      <td>126.0</td>\n",
              "    </tr>\n",
              "  </tbody>\n",
              "</table>\n",
              "</div>"
            ],
            "text/plain": [
              "  State  Year     Month  AllDeaths  ODDeaths\n",
              "0    AK  2015     April     4133.0     126.0\n",
              "1    AK  2015    August     4222.0     124.0\n",
              "2    AK  2015  December     4193.0     121.0\n",
              "3    AK  2015  February     4084.0     127.0\n",
              "4    AK  2015   January     4034.0     126.0"
            ]
          },
          "metadata": {
            "tags": []
          },
          "execution_count": 15
        }
      ]
    },
    {
      "cell_type": "markdown",
      "metadata": {
        "id": "vm1ksD5lNMu1",
        "colab_type": "text"
      },
      "source": [
        "3.3. Calculate percent OD and create a new column."
      ]
    },
    {
      "cell_type": "code",
      "metadata": {
        "id": "jdFVCaTlNRm0",
        "colab_type": "code",
        "outputId": "d04ab92d-1921-4b3d-c14a-8ee78405a0f3",
        "colab": {
          "base_uri": "https://localhost:8080/",
          "height": 195
        }
      },
      "source": [
        "state_OD_all_deaths['percentOD'] = (state_OD_all_deaths.ODDeaths * 100/state_OD_all_deaths.AllDeaths)\n",
        "state_OD_all_deaths.head()"
      ],
      "execution_count": 0,
      "outputs": [
        {
          "output_type": "execute_result",
          "data": {
            "text/html": [
              "<div>\n",
              "<style scoped>\n",
              "    .dataframe tbody tr th:only-of-type {\n",
              "        vertical-align: middle;\n",
              "    }\n",
              "\n",
              "    .dataframe tbody tr th {\n",
              "        vertical-align: top;\n",
              "    }\n",
              "\n",
              "    .dataframe thead th {\n",
              "        text-align: right;\n",
              "    }\n",
              "</style>\n",
              "<table border=\"1\" class=\"dataframe\">\n",
              "  <thead>\n",
              "    <tr style=\"text-align: right;\">\n",
              "      <th></th>\n",
              "      <th>State</th>\n",
              "      <th>Year</th>\n",
              "      <th>Month</th>\n",
              "      <th>AllDeaths</th>\n",
              "      <th>ODDeaths</th>\n",
              "      <th>percentOD</th>\n",
              "    </tr>\n",
              "  </thead>\n",
              "  <tbody>\n",
              "    <tr>\n",
              "      <th>0</th>\n",
              "      <td>AK</td>\n",
              "      <td>2015</td>\n",
              "      <td>April</td>\n",
              "      <td>4133.0</td>\n",
              "      <td>126.0</td>\n",
              "      <td>3.048633</td>\n",
              "    </tr>\n",
              "    <tr>\n",
              "      <th>1</th>\n",
              "      <td>AK</td>\n",
              "      <td>2015</td>\n",
              "      <td>August</td>\n",
              "      <td>4222.0</td>\n",
              "      <td>124.0</td>\n",
              "      <td>2.936997</td>\n",
              "    </tr>\n",
              "    <tr>\n",
              "      <th>2</th>\n",
              "      <td>AK</td>\n",
              "      <td>2015</td>\n",
              "      <td>December</td>\n",
              "      <td>4193.0</td>\n",
              "      <td>121.0</td>\n",
              "      <td>2.885762</td>\n",
              "    </tr>\n",
              "    <tr>\n",
              "      <th>3</th>\n",
              "      <td>AK</td>\n",
              "      <td>2015</td>\n",
              "      <td>February</td>\n",
              "      <td>4084.0</td>\n",
              "      <td>127.0</td>\n",
              "      <td>3.109696</td>\n",
              "    </tr>\n",
              "    <tr>\n",
              "      <th>4</th>\n",
              "      <td>AK</td>\n",
              "      <td>2015</td>\n",
              "      <td>January</td>\n",
              "      <td>4034.0</td>\n",
              "      <td>126.0</td>\n",
              "      <td>3.123451</td>\n",
              "    </tr>\n",
              "  </tbody>\n",
              "</table>\n",
              "</div>"
            ],
            "text/plain": [
              "  State  Year     Month  AllDeaths  ODDeaths  percentOD\n",
              "0    AK  2015     April     4133.0     126.0   3.048633\n",
              "1    AK  2015    August     4222.0     124.0   2.936997\n",
              "2    AK  2015  December     4193.0     121.0   2.885762\n",
              "3    AK  2015  February     4084.0     127.0   3.109696\n",
              "4    AK  2015   January     4034.0     126.0   3.123451"
            ]
          },
          "metadata": {
            "tags": []
          },
          "execution_count": 16
        }
      ]
    },
    {
      "cell_type": "markdown",
      "metadata": {
        "id": "ZVrgT19lOcSS",
        "colab_type": "text"
      },
      "source": [
        "3.4. Clean up dates: month as a digit and create a new column with Day, Month, Year."
      ]
    },
    {
      "cell_type": "code",
      "metadata": {
        "id": "e5UjrEKmOlW4",
        "colab_type": "code",
        "outputId": "f941606a-a25c-408d-eb29-e02c2d05674a",
        "colab": {
          "base_uri": "https://localhost:8080/",
          "height": 195
        }
      },
      "source": [
        "state_OD_all_deaths['Month'] = pd.to_datetime(state_OD_all_deaths['Month'], format='%B').dt.month\n",
        "state_OD_all_deaths['Date'] = pd.to_datetime(state_OD_all_deaths.assign(Day=1).loc[:, ['Year','Month','Day']])\n",
        "state_OD_all_deaths.head()"
      ],
      "execution_count": 0,
      "outputs": [
        {
          "output_type": "execute_result",
          "data": {
            "text/html": [
              "<div>\n",
              "<style scoped>\n",
              "    .dataframe tbody tr th:only-of-type {\n",
              "        vertical-align: middle;\n",
              "    }\n",
              "\n",
              "    .dataframe tbody tr th {\n",
              "        vertical-align: top;\n",
              "    }\n",
              "\n",
              "    .dataframe thead th {\n",
              "        text-align: right;\n",
              "    }\n",
              "</style>\n",
              "<table border=\"1\" class=\"dataframe\">\n",
              "  <thead>\n",
              "    <tr style=\"text-align: right;\">\n",
              "      <th></th>\n",
              "      <th>State</th>\n",
              "      <th>Year</th>\n",
              "      <th>Month</th>\n",
              "      <th>AllDeaths</th>\n",
              "      <th>ODDeaths</th>\n",
              "      <th>percentOD</th>\n",
              "      <th>Date</th>\n",
              "    </tr>\n",
              "  </thead>\n",
              "  <tbody>\n",
              "    <tr>\n",
              "      <th>0</th>\n",
              "      <td>AK</td>\n",
              "      <td>2015</td>\n",
              "      <td>4</td>\n",
              "      <td>4133.0</td>\n",
              "      <td>126.0</td>\n",
              "      <td>3.048633</td>\n",
              "      <td>2015-04-01</td>\n",
              "    </tr>\n",
              "    <tr>\n",
              "      <th>1</th>\n",
              "      <td>AK</td>\n",
              "      <td>2015</td>\n",
              "      <td>8</td>\n",
              "      <td>4222.0</td>\n",
              "      <td>124.0</td>\n",
              "      <td>2.936997</td>\n",
              "      <td>2015-08-01</td>\n",
              "    </tr>\n",
              "    <tr>\n",
              "      <th>2</th>\n",
              "      <td>AK</td>\n",
              "      <td>2015</td>\n",
              "      <td>12</td>\n",
              "      <td>4193.0</td>\n",
              "      <td>121.0</td>\n",
              "      <td>2.885762</td>\n",
              "      <td>2015-12-01</td>\n",
              "    </tr>\n",
              "    <tr>\n",
              "      <th>3</th>\n",
              "      <td>AK</td>\n",
              "      <td>2015</td>\n",
              "      <td>2</td>\n",
              "      <td>4084.0</td>\n",
              "      <td>127.0</td>\n",
              "      <td>3.109696</td>\n",
              "      <td>2015-02-01</td>\n",
              "    </tr>\n",
              "    <tr>\n",
              "      <th>4</th>\n",
              "      <td>AK</td>\n",
              "      <td>2015</td>\n",
              "      <td>1</td>\n",
              "      <td>4034.0</td>\n",
              "      <td>126.0</td>\n",
              "      <td>3.123451</td>\n",
              "      <td>2015-01-01</td>\n",
              "    </tr>\n",
              "  </tbody>\n",
              "</table>\n",
              "</div>"
            ],
            "text/plain": [
              "  State  Year  Month  AllDeaths  ODDeaths  percentOD       Date\n",
              "0    AK  2015      4     4133.0     126.0   3.048633 2015-04-01\n",
              "1    AK  2015      8     4222.0     124.0   2.936997 2015-08-01\n",
              "2    AK  2015     12     4193.0     121.0   2.885762 2015-12-01\n",
              "3    AK  2015      2     4084.0     127.0   3.109696 2015-02-01\n",
              "4    AK  2015      1     4034.0     126.0   3.123451 2015-01-01"
            ]
          },
          "metadata": {
            "tags": []
          },
          "execution_count": 17
        }
      ]
    },
    {
      "cell_type": "markdown",
      "metadata": {
        "id": "ZnZtA7XbeT5x",
        "colab_type": "text"
      },
      "source": [
        "3.5 Create dataframe for geograpical locations. Divide into West, Mid-West, South, North-East and NYC.\n",
        "\n"
      ]
    },
    {
      "cell_type": "code",
      "metadata": {
        "id": "DfP9T6A4edYD",
        "colab_type": "code",
        "outputId": "c2267eae-98ff-4ca8-9f5a-9fd8c65a0a4c",
        "colab": {
          "base_uri": "https://localhost:8080/",
          "height": 195
        }
      },
      "source": [
        "def label_states (row):\n",
        "    if row['state'] in ['AK','WA', 'OR', 'CA', 'NV','MT','ID','UT', 'CO', 'AZ', 'NM','WY']:\n",
        "        return 'West'\n",
        "    if row['state'] in ['ND', 'SD', 'NE', 'KS','MN','IA','MO','MI','IN','WI','IL','OH']:\n",
        "        return 'Mid-West'\n",
        "    if row['state'] in ['OK', 'TX', 'AR', 'LA', 'TN', 'MS', 'AL','KY', 'GA','FL','WV', 'VA', 'NC', 'SC', 'DE', 'MD', 'DC']:\n",
        "        return 'South'\n",
        "    if row['state'] in ['NY', 'CT', 'MA', 'PA','RI', 'NH','NJ','VT', 'ME']:\n",
        "        return 'North-East'\n",
        "    if row['state'] in ['YC']:\n",
        "        return 'NYC'\n",
        "    return 'etc'\n",
        "\n",
        "state_geo = pd.DataFrame([{'state':\"YC\"},{'state':\"NC\"},{'state':\"SC\"},{'state':\"MI\"},{'state':\"CT\"},{'state':\"MA\"},{'state':\"OH\"},{'state':\"PA\"},{'state':\"MD\"}, {'state':\"VT\"},{'state':\"ME\"},{'state':\"DC\"},{'state':\"NJ\"},{'state':\"DE\"},{'state':\"NH\"}, {'state':\"RI\"}, {'state':\"WV\"},{'state':\"VA\"},{'state':\"IN\"},{'state':\"KY\"},{'state':\"GA\"},{'state':\"FL\"},{'state':\"NY\"},{'state':\"AR\"},{'state':\"LA\"},{'state':\"TN\"},{'state':\"MS\"},{'state':\"AL\"},{'state':\"IL\"},{'state':\"IA\"},{'state':\"KS\"},{'state':\"MO\"},{'state':\"OK\"},{'state':\"TX\"},{'state':\"WI\"},{'state':\"MN\"},{'state':\"AK\"}, {'state':\"WA\"}, {'state':\"OR\"}, {'state':\"CA\"}, {'state':\"NV\"}, {'state':\"MT\"}, {'state':\"ID\"}, {'state':\"ND\"}, {'state':\"SD\"},{'state':\"WY\"}, {'state':\"UT\"}, {'state':\"CO\"}, {'state':\"AZ\"}, {'state':\"NM\"}, {'state':\"NE\"}])\n",
        "\n",
        "state_geo['Region'] = state_geo.apply(lambda row: label_states(row), axis=1)\n",
        "\n",
        "state_geo.head()"
      ],
      "execution_count": 0,
      "outputs": [
        {
          "output_type": "execute_result",
          "data": {
            "text/html": [
              "<div>\n",
              "<style scoped>\n",
              "    .dataframe tbody tr th:only-of-type {\n",
              "        vertical-align: middle;\n",
              "    }\n",
              "\n",
              "    .dataframe tbody tr th {\n",
              "        vertical-align: top;\n",
              "    }\n",
              "\n",
              "    .dataframe thead th {\n",
              "        text-align: right;\n",
              "    }\n",
              "</style>\n",
              "<table border=\"1\" class=\"dataframe\">\n",
              "  <thead>\n",
              "    <tr style=\"text-align: right;\">\n",
              "      <th></th>\n",
              "      <th>state</th>\n",
              "      <th>Region</th>\n",
              "    </tr>\n",
              "  </thead>\n",
              "  <tbody>\n",
              "    <tr>\n",
              "      <th>0</th>\n",
              "      <td>YC</td>\n",
              "      <td>NYC</td>\n",
              "    </tr>\n",
              "    <tr>\n",
              "      <th>1</th>\n",
              "      <td>NC</td>\n",
              "      <td>South</td>\n",
              "    </tr>\n",
              "    <tr>\n",
              "      <th>2</th>\n",
              "      <td>SC</td>\n",
              "      <td>South</td>\n",
              "    </tr>\n",
              "    <tr>\n",
              "      <th>3</th>\n",
              "      <td>MI</td>\n",
              "      <td>Mid-West</td>\n",
              "    </tr>\n",
              "    <tr>\n",
              "      <th>4</th>\n",
              "      <td>CT</td>\n",
              "      <td>North-East</td>\n",
              "    </tr>\n",
              "  </tbody>\n",
              "</table>\n",
              "</div>"
            ],
            "text/plain": [
              "  state      Region\n",
              "0    YC         NYC\n",
              "1    NC       South\n",
              "2    SC       South\n",
              "3    MI    Mid-West\n",
              "4    CT  North-East"
            ]
          },
          "metadata": {
            "tags": []
          },
          "execution_count": 18
        }
      ]
    },
    {
      "cell_type": "markdown",
      "metadata": {
        "id": "vS3azW2aerui",
        "colab_type": "text"
      },
      "source": [
        "3.6. Merge with OD dataframe."
      ]
    },
    {
      "cell_type": "code",
      "metadata": {
        "id": "mxx1BCmPexma",
        "colab_type": "code",
        "colab": {}
      },
      "source": [
        "state_OD_all_deaths_region = state_OD_all_deaths.merge(state_geo, left_on='State', right_on='state',\n",
        "          suffixes=('_left', '_right'))"
      ],
      "execution_count": 0,
      "outputs": []
    },
    {
      "cell_type": "code",
      "metadata": {
        "id": "cBk6MCTRe3M8",
        "colab_type": "code",
        "outputId": "8ec3118d-095e-44f7-822b-1dc46cb0e33d",
        "colab": {
          "base_uri": "https://localhost:8080/",
          "height": 195
        }
      },
      "source": [
        "state_OD_all_deaths_region.head()"
      ],
      "execution_count": 0,
      "outputs": [
        {
          "output_type": "execute_result",
          "data": {
            "text/html": [
              "<div>\n",
              "<style scoped>\n",
              "    .dataframe tbody tr th:only-of-type {\n",
              "        vertical-align: middle;\n",
              "    }\n",
              "\n",
              "    .dataframe tbody tr th {\n",
              "        vertical-align: top;\n",
              "    }\n",
              "\n",
              "    .dataframe thead th {\n",
              "        text-align: right;\n",
              "    }\n",
              "</style>\n",
              "<table border=\"1\" class=\"dataframe\">\n",
              "  <thead>\n",
              "    <tr style=\"text-align: right;\">\n",
              "      <th></th>\n",
              "      <th>State</th>\n",
              "      <th>Year</th>\n",
              "      <th>Month</th>\n",
              "      <th>AllDeaths</th>\n",
              "      <th>ODDeaths</th>\n",
              "      <th>percentOD</th>\n",
              "      <th>Date</th>\n",
              "      <th>state</th>\n",
              "      <th>Region</th>\n",
              "    </tr>\n",
              "  </thead>\n",
              "  <tbody>\n",
              "    <tr>\n",
              "      <th>0</th>\n",
              "      <td>AK</td>\n",
              "      <td>2015</td>\n",
              "      <td>4</td>\n",
              "      <td>4133.0</td>\n",
              "      <td>126.0</td>\n",
              "      <td>3.048633</td>\n",
              "      <td>2015-04-01</td>\n",
              "      <td>AK</td>\n",
              "      <td>West</td>\n",
              "    </tr>\n",
              "    <tr>\n",
              "      <th>1</th>\n",
              "      <td>AK</td>\n",
              "      <td>2015</td>\n",
              "      <td>8</td>\n",
              "      <td>4222.0</td>\n",
              "      <td>124.0</td>\n",
              "      <td>2.936997</td>\n",
              "      <td>2015-08-01</td>\n",
              "      <td>AK</td>\n",
              "      <td>West</td>\n",
              "    </tr>\n",
              "    <tr>\n",
              "      <th>2</th>\n",
              "      <td>AK</td>\n",
              "      <td>2015</td>\n",
              "      <td>12</td>\n",
              "      <td>4193.0</td>\n",
              "      <td>121.0</td>\n",
              "      <td>2.885762</td>\n",
              "      <td>2015-12-01</td>\n",
              "      <td>AK</td>\n",
              "      <td>West</td>\n",
              "    </tr>\n",
              "    <tr>\n",
              "      <th>3</th>\n",
              "      <td>AK</td>\n",
              "      <td>2015</td>\n",
              "      <td>2</td>\n",
              "      <td>4084.0</td>\n",
              "      <td>127.0</td>\n",
              "      <td>3.109696</td>\n",
              "      <td>2015-02-01</td>\n",
              "      <td>AK</td>\n",
              "      <td>West</td>\n",
              "    </tr>\n",
              "    <tr>\n",
              "      <th>4</th>\n",
              "      <td>AK</td>\n",
              "      <td>2015</td>\n",
              "      <td>1</td>\n",
              "      <td>4034.0</td>\n",
              "      <td>126.0</td>\n",
              "      <td>3.123451</td>\n",
              "      <td>2015-01-01</td>\n",
              "      <td>AK</td>\n",
              "      <td>West</td>\n",
              "    </tr>\n",
              "  </tbody>\n",
              "</table>\n",
              "</div>"
            ],
            "text/plain": [
              "  State  Year  Month  AllDeaths  ODDeaths  percentOD       Date state Region\n",
              "0    AK  2015      4     4133.0     126.0   3.048633 2015-04-01    AK   West\n",
              "1    AK  2015      8     4222.0     124.0   2.936997 2015-08-01    AK   West\n",
              "2    AK  2015     12     4193.0     121.0   2.885762 2015-12-01    AK   West\n",
              "3    AK  2015      2     4084.0     127.0   3.109696 2015-02-01    AK   West\n",
              "4    AK  2015      1     4034.0     126.0   3.123451 2015-01-01    AK   West"
            ]
          },
          "metadata": {
            "tags": []
          },
          "execution_count": 20
        }
      ]
    },
    {
      "cell_type": "markdown",
      "metadata": {
        "id": "RbAfBIXqe5tK",
        "colab_type": "text"
      },
      "source": [
        "3.7. Explore the Data."
      ]
    },
    {
      "cell_type": "code",
      "metadata": {
        "id": "U_5uZ73nfCh_",
        "colab_type": "code",
        "outputId": "72227b35-fadf-472e-e379-77ca32ebd8c8",
        "colab": {
          "base_uri": "https://localhost:8080/",
          "height": 284
        }
      },
      "source": [
        "state_OD_all_deaths_region.describe()"
      ],
      "execution_count": 0,
      "outputs": [
        {
          "output_type": "execute_result",
          "data": {
            "text/html": [
              "<div>\n",
              "<style scoped>\n",
              "    .dataframe tbody tr th:only-of-type {\n",
              "        vertical-align: middle;\n",
              "    }\n",
              "\n",
              "    .dataframe tbody tr th {\n",
              "        vertical-align: top;\n",
              "    }\n",
              "\n",
              "    .dataframe thead th {\n",
              "        text-align: right;\n",
              "    }\n",
              "</style>\n",
              "<table border=\"1\" class=\"dataframe\">\n",
              "  <thead>\n",
              "    <tr style=\"text-align: right;\">\n",
              "      <th></th>\n",
              "      <th>Year</th>\n",
              "      <th>Month</th>\n",
              "      <th>AllDeaths</th>\n",
              "      <th>ODDeaths</th>\n",
              "      <th>percentOD</th>\n",
              "    </tr>\n",
              "  </thead>\n",
              "  <tbody>\n",
              "    <tr>\n",
              "      <th>count</th>\n",
              "      <td>2805.000000</td>\n",
              "      <td>2805.000000</td>\n",
              "      <td>2805.000000</td>\n",
              "      <td>2805.000000</td>\n",
              "      <td>2805.000000</td>\n",
              "    </tr>\n",
              "    <tr>\n",
              "      <th>mean</th>\n",
              "      <td>2016.818182</td>\n",
              "      <td>6.181818</td>\n",
              "      <td>54139.479857</td>\n",
              "      <td>1215.826381</td>\n",
              "      <td>2.274058</td>\n",
              "    </tr>\n",
              "    <tr>\n",
              "      <th>std</th>\n",
              "      <td>1.336324</td>\n",
              "      <td>3.406970</td>\n",
              "      <td>52760.104688</td>\n",
              "      <td>1208.604340</td>\n",
              "      <td>0.926642</td>\n",
              "    </tr>\n",
              "    <tr>\n",
              "      <th>min</th>\n",
              "      <td>2015.000000</td>\n",
              "      <td>1.000000</td>\n",
              "      <td>4034.000000</td>\n",
              "      <td>55.000000</td>\n",
              "      <td>0.640342</td>\n",
              "    </tr>\n",
              "    <tr>\n",
              "      <th>25%</th>\n",
              "      <td>2016.000000</td>\n",
              "      <td>3.000000</td>\n",
              "      <td>17048.000000</td>\n",
              "      <td>332.000000</td>\n",
              "      <td>1.554699</td>\n",
              "    </tr>\n",
              "    <tr>\n",
              "      <th>50%</th>\n",
              "      <td>2017.000000</td>\n",
              "      <td>6.000000</td>\n",
              "      <td>43445.000000</td>\n",
              "      <td>849.000000</td>\n",
              "      <td>2.167766</td>\n",
              "    </tr>\n",
              "    <tr>\n",
              "      <th>75%</th>\n",
              "      <td>2018.000000</td>\n",
              "      <td>9.000000</td>\n",
              "      <td>66095.000000</td>\n",
              "      <td>1576.000000</td>\n",
              "      <td>2.800433</td>\n",
              "    </tr>\n",
              "    <tr>\n",
              "      <th>max</th>\n",
              "      <td>2019.000000</td>\n",
              "      <td>12.000000</td>\n",
              "      <td>272905.000000</td>\n",
              "      <td>5768.000000</td>\n",
              "      <td>6.068268</td>\n",
              "    </tr>\n",
              "  </tbody>\n",
              "</table>\n",
              "</div>"
            ],
            "text/plain": [
              "              Year        Month      AllDeaths     ODDeaths    percentOD\n",
              "count  2805.000000  2805.000000    2805.000000  2805.000000  2805.000000\n",
              "mean   2016.818182     6.181818   54139.479857  1215.826381     2.274058\n",
              "std       1.336324     3.406970   52760.104688  1208.604340     0.926642\n",
              "min    2015.000000     1.000000    4034.000000    55.000000     0.640342\n",
              "25%    2016.000000     3.000000   17048.000000   332.000000     1.554699\n",
              "50%    2017.000000     6.000000   43445.000000   849.000000     2.167766\n",
              "75%    2018.000000     9.000000   66095.000000  1576.000000     2.800433\n",
              "max    2019.000000    12.000000  272905.000000  5768.000000     6.068268"
            ]
          },
          "metadata": {
            "tags": []
          },
          "execution_count": 21
        }
      ]
    },
    {
      "cell_type": "code",
      "metadata": {
        "id": "S-Ns3-VjfD9_",
        "colab_type": "code",
        "outputId": "78b48b97-052f-45f4-92d7-e8587f997ec1",
        "colab": {
          "base_uri": "https://localhost:8080/",
          "height": 322
        }
      },
      "source": [
        "ax = sns.boxplot(y=\"percentOD\", x = \"Region\", data=state_OD_all_deaths_region)\n",
        "ax.set_xticklabels(ax.get_xticklabels(), rotation=90);"
      ],
      "execution_count": 0,
      "outputs": [
        {
          "output_type": "display_data",
          "data": {
            "image/png": "[encoded data removed]",
            "text/plain": [
              "<Figure size 432x288 with 1 Axes>"
            ]
          },
          "metadata": {
            "tags": []
          }
        }
      ]
    },
    {
      "cell_type": "markdown",
      "metadata": {
        "id": "xQRACfzWfP_2",
        "colab_type": "text"
      },
      "source": [
        "3.8. Divide dataframe into regions and look for normal distribution. "
      ]
    },
    {
      "cell_type": "code",
      "metadata": {
        "id": "FBtIewtKfhHa",
        "colab_type": "code",
        "colab": {}
      },
      "source": [
        "OD_West = state_OD_all_deaths_region.iloc[(state_OD_all_deaths_region['Region'] == 'West').values]\n",
        "OD_South = state_OD_all_deaths_region.iloc[(state_OD_all_deaths_region['Region'] == 'South').values]\n",
        "OD_North_East = state_OD_all_deaths_region.iloc[(state_OD_all_deaths_region['Region'] == 'North-East').values]\n",
        "OD_Mid_West = state_OD_all_deaths_region.iloc[(state_OD_all_deaths_region['Region'] == 'Mid-West').values]\n",
        "OD_NYC = state_OD_all_deaths_region.iloc[(state_OD_all_deaths_region['Region'] == 'NYC').values]"
      ],
      "execution_count": 0,
      "outputs": []
    },
    {
      "cell_type": "code",
      "metadata": {
        "id": "xVis0uDKfjuT",
        "colab_type": "code",
        "outputId": "1fbaa519-f7a8-4277-9dca-40f3c371d957",
        "colab": {
          "base_uri": "https://localhost:8080/",
          "height": 279
        }
      },
      "source": [
        "ax = sns.distplot(OD_West['percentOD'], bins=20)"
      ],
      "execution_count": 0,
      "outputs": [
        {
          "output_type": "display_data",
          "data": {
            "image/png": "[encoded data removed]",
            "text/plain": [
              "<Figure size 432x288 with 1 Axes>"
            ]
          },
          "metadata": {
            "tags": []
          }
        }
      ]
    },
    {
      "cell_type": "code",
      "metadata": {
        "id": "h2YKeS2vfxxB",
        "colab_type": "code",
        "outputId": "63e6129d-dfc5-4f2b-f3e5-30fea0ce7bf8",
        "colab": {
          "base_uri": "https://localhost:8080/",
          "height": 279
        }
      },
      "source": [
        "ax = sns.distplot(OD_South['percentOD'], bins=20)"
      ],
      "execution_count": 0,
      "outputs": [
        {
          "output_type": "display_data",
          "data": {
            "image/png": "[encoded data removed]",
            "text/plain": [
              "<Figure size 432x288 with 1 Axes>"
            ]
          },
          "metadata": {
            "tags": []
          }
        }
      ]
    },
    {
      "cell_type": "code",
      "metadata": {
        "id": "yenk309_f1Ng",
        "colab_type": "code",
        "outputId": "c89b5a8c-54c0-43f4-f11f-d0537ba70072",
        "colab": {
          "base_uri": "https://localhost:8080/",
          "height": 279
        }
      },
      "source": [
        "ax = sns.distplot(OD_North_East['percentOD'], bins=20)"
      ],
      "execution_count": 0,
      "outputs": [
        {
          "output_type": "display_data",
          "data": {
            "image/png": "[encoded data removed]",
            "text/plain": [
              "<Figure size 432x288 with 1 Axes>"
            ]
          },
          "metadata": {
            "tags": []
          }
        }
      ]
    },
    {
      "cell_type": "code",
      "metadata": {
        "id": "Oa5wIIl6f4Jf",
        "colab_type": "code",
        "outputId": "f0a695a9-a7f8-437f-f3ed-d1ca417fb1fa",
        "colab": {
          "base_uri": "https://localhost:8080/",
          "height": 279
        }
      },
      "source": [
        "ax = sns.distplot(OD_Mid_West['percentOD'], bins=20)"
      ],
      "execution_count": 0,
      "outputs": [
        {
          "output_type": "display_data",
          "data": {
            "image/png": "[encoded data removed]",
            "text/plain": [
              "<Figure size 432x288 with 1 Axes>"
            ]
          },
          "metadata": {
            "tags": []
          }
        }
      ]
    },
    {
      "cell_type": "code",
      "metadata": {
        "id": "a9EnXNSkf7EC",
        "colab_type": "code",
        "outputId": "a65bbc00-b140-4294-8fc7-9fc75266df12",
        "colab": {
          "base_uri": "https://localhost:8080/",
          "height": 279
        }
      },
      "source": [
        "ax = sns.distplot(OD_NYC['percentOD'], bins=20)"
      ],
      "execution_count": 0,
      "outputs": [
        {
          "output_type": "display_data",
          "data": {
            "image/png": "[encoded data removed]",
            "text/plain": [
              "<Figure size 432x288 with 1 Axes>"
            ]
          },
          "metadata": {
            "tags": []
          }
        }
      ]
    },
    {
      "cell_type": "code",
      "metadata": {
        "id": "egY0P2V7gYWE",
        "colab_type": "code",
        "outputId": "a31c5fcf-d2c0-4e3f-b836-facea8facd95",
        "colab": {
          "base_uri": "https://localhost:8080/",
          "height": 101
        }
      },
      "source": [
        "# None of the above  look like a normal distribution. Will look at The Shapiro–Wilk test as a test of normality.\n",
        "print(stats.shapiro(OD_West['percentOD']))\n",
        "print(stats.shapiro(OD_South['percentOD']))\n",
        "print(stats.shapiro(OD_North_East['percentOD']))\n",
        "print(stats.shapiro(OD_Mid_West['percentOD']))\n",
        "print(stats.shapiro(OD_NYC['percentOD']))"
      ],
      "execution_count": 0,
      "outputs": [
        {
          "output_type": "stream",
          "text": [
            "(0.9695234298706055, 1.7539122931786721e-10)\n",
            "(0.8801968097686768, 3.1530206469396125e-26)\n",
            "(0.9476246237754822, 3.173170710565887e-12)\n",
            "(0.9321097731590271, 9.87715193625889e-17)\n",
            "(0.767726719379425, 6.140661668041503e-08)\n"
          ],
          "name": "stdout"
        }
      ]
    },
    {
      "cell_type": "code",
      "metadata": {
        "id": "ig4N03swjHBl",
        "colab_type": "code",
        "outputId": "4bdf1545-288a-499f-e0dd-9ebe66f1febf",
        "colab": {
          "base_uri": "https://localhost:8080/",
          "height": 437
        }
      },
      "source": [
        "state_OD_all_deaths_region.boxplot('percentOD', by='Region', figsize=(10, 6))"
      ],
      "execution_count": 0,
      "outputs": [
        {
          "output_type": "execute_result",
          "data": {
            "text/plain": [
              "<matplotlib.axes._subplots.AxesSubplot at 0x7fdffe1cea58>"
            ]
          },
          "metadata": {
            "tags": []
          },
          "execution_count": 30
        },
        {
          "output_type": "display_data",
          "data": {
            "image/png": "[encoded data removed]",
            "text/plain": [
              "<Figure size 720x432 with 1 Axes>"
            ]
          },
          "metadata": {
            "tags": []
          }
        }
      ]
    },
    {
      "cell_type": "markdown",
      "metadata": {
        "id": "UfB5tnNkjOFL",
        "colab_type": "text"
      },
      "source": [
        "3.9. Do Kruskal–Wallis test for a non-parametric data."
      ]
    },
    {
      "cell_type": "code",
      "metadata": {
        "id": "aSBNFHPvjepL",
        "colab_type": "code",
        "outputId": "dce5d4de-bbd6-4b39-fe44-535fabbe7229",
        "colab": {
          "base_uri": "https://localhost:8080/",
          "height": 34
        }
      },
      "source": [
        "# There are clearly significant geogrpahical differences. \n",
        "stats.kruskal(OD_West['percentOD'], OD_South['percentOD'], OD_North_East['percentOD'], OD_Mid_West['percentOD'], OD_NYC['percentOD'])"
      ],
      "execution_count": 0,
      "outputs": [
        {
          "output_type": "execute_result",
          "data": {
            "text/plain": [
              "KruskalResult(statistic=491.7017778004696, pvalue=4.175901778424829e-105)"
            ]
          },
          "metadata": {
            "tags": []
          },
          "execution_count": 31
        }
      ]
    },
    {
      "cell_type": "markdown",
      "metadata": {
        "id": "r7rVXmXWjxEV",
        "colab_type": "text"
      },
      "source": [
        "3.10. Do Tukey post-hoc."
      ]
    },
    {
      "cell_type": "code",
      "metadata": {
        "id": "DPijtyQwj5p0",
        "colab_type": "code",
        "outputId": "d2b3c81d-2cf0-4f36-8f1d-f12143f067b6",
        "colab": {
          "base_uri": "https://localhost:8080/",
          "height": 255
        }
      },
      "source": [
        "from statsmodels.stats.multicomp import pairwise_tukeyhsd\n",
        "\n",
        "tukey = pairwise_tukeyhsd(endog = state_OD_all_deaths_region['percentOD'],     \n",
        "                          groups = state_OD_all_deaths_region['Region'],  \n",
        "                          alpha=0.05)  \n",
        "tukey.summary()"
      ],
      "execution_count": 0,
      "outputs": [
        {
          "output_type": "execute_result",
          "data": {
            "text/html": [
              "<table class=\"simpletable\">\n",
              "<caption>Multiple Comparison of Means - Tukey HSD, FWER=0.05</caption>\n",
              "<tr>\n",
              "    <th>group1</th>     <th>group2</th>   <th>meandiff</th>  <th>p-adj</th>  <th>lower</th>   <th>upper</th>  <th>reject</th>\n",
              "</tr>\n",
              "<tr>\n",
              "   <td>Mid-West</td>      <td>NYC</td>     <td>0.6323</td>   <td>0.001</td> <td>0.3052</td>  <td>0.9595</td>   <td>True</td> \n",
              "</tr>\n",
              "<tr>\n",
              "   <td>Mid-West</td>  <td>North-East</td>  <td>1.1277</td>   <td>0.001</td> <td>0.9891</td>  <td>1.2663</td>   <td>True</td> \n",
              "</tr>\n",
              "<tr>\n",
              "   <td>Mid-West</td>     <td>South</td>    <td>0.5853</td>   <td>0.001</td> <td>0.4668</td>  <td>0.7038</td>   <td>True</td> \n",
              "</tr>\n",
              "<tr>\n",
              "   <td>Mid-West</td>     <td>West</td>     <td>0.5337</td>   <td>0.001</td> <td>0.4054</td>  <td>0.6621</td>   <td>True</td> \n",
              "</tr>\n",
              "<tr>\n",
              "      <td>NYC</td>    <td>North-East</td>  <td>0.4954</td>   <td>0.001</td> <td>0.1641</td>  <td>0.8267</td>   <td>True</td> \n",
              "</tr>\n",
              "<tr>\n",
              "      <td>NYC</td>       <td>South</td>    <td>-0.0471</td>   <td>0.9</td>  <td>-0.3705</td> <td>0.2764</td>   <td>False</td>\n",
              "</tr>\n",
              "<tr>\n",
              "      <td>NYC</td>       <td>West</td>     <td>-0.0986</td>   <td>0.9</td>  <td>-0.4257</td> <td>0.2285</td>   <td>False</td>\n",
              "</tr>\n",
              "<tr>\n",
              "  <td>North-East</td>    <td>South</td>    <td>-0.5425</td>  <td>0.001</td> <td>-0.672</td>  <td>-0.4129</td>  <td>True</td> \n",
              "</tr>\n",
              "<tr>\n",
              "  <td>North-East</td>    <td>West</td>     <td>-0.594</td>   <td>0.001</td> <td>-0.7326</td> <td>-0.4554</td>  <td>True</td> \n",
              "</tr>\n",
              "<tr>\n",
              "     <td>South</td>      <td>West</td>     <td>-0.0515</td> <td>0.7317</td>  <td>-0.17</td>   <td>0.067</td>   <td>False</td>\n",
              "</tr>\n",
              "</table>"
            ],
            "text/plain": [
              "<class 'statsmodels.iolib.table.SimpleTable'>"
            ]
          },
          "metadata": {
            "tags": []
          },
          "execution_count": 32
        }
      ]
    },
    {
      "cell_type": "markdown",
      "metadata": {
        "id": "6PwmSL_eM_ot",
        "colab_type": "text"
      },
      "source": [
        "Contrary to the hypothesis, OD deaths greatest in the North-East.\n"
      ]
    },
    {
      "cell_type": "markdown",
      "metadata": {
        "id": "d_hKJk38lftF",
        "colab_type": "text"
      },
      "source": [
        "# **4. Data Preparation and Exploration Question 2**\n",
        "\n",
        "Is there a correlation between drug overdose and Medication-Assisted Treatment(MAT) for California?\n",
        "  I hypothesize that deaths due to drug overdose will decrease with increasing MAT."
      ]
    },
    {
      "cell_type": "markdown",
      "metadata": {
        "id": "6DcGkXIsMAfG",
        "colab_type": "text"
      },
      "source": [
        "4.1. Upload MAT data from CDC as CA_MAT.\n",
        "\n",
        "Extract statewide data from the CA_MAT dataframe."
      ]
    },
    {
      "cell_type": "code",
      "metadata": {
        "id": "BpdjBe_JMGaF",
        "colab_type": "code",
        "outputId": "300aaf01-b707-4e73-ff2b-ba3401334b2b",
        "colab": {
          "base_uri": "https://localhost:8080/",
          "height": 343
        }
      },
      "source": [
        "MAT = pd.read_csv(\"https://data.chhs.ca.gov/dataset/8329a339-ab77-4d05-ab7a-405d0ae5765c/resource/bf66ffea-8f37-4553-8829-4bf9286e7802/download/imd-mat-for-opioid-use-yearly-oct-2019.csv\")\n",
        "CA_MAT = MAT[MAT['County']=='Statewide']\n",
        "CA_MAT.head(10)"
      ],
      "execution_count": 0,
      "outputs": [
        {
          "output_type": "execute_result",
          "data": {
            "text/html": [
              "<div>\n",
              "<style scoped>\n",
              "    .dataframe tbody tr th:only-of-type {\n",
              "        vertical-align: middle;\n",
              "    }\n",
              "\n",
              "    .dataframe tbody tr th {\n",
              "        vertical-align: top;\n",
              "    }\n",
              "\n",
              "    .dataframe thead th {\n",
              "        text-align: right;\n",
              "    }\n",
              "</style>\n",
              "<table border=\"1\" class=\"dataframe\">\n",
              "  <thead>\n",
              "    <tr style=\"text-align: right;\">\n",
              "      <th></th>\n",
              "      <th>County</th>\n",
              "      <th>Year</th>\n",
              "      <th>Beneficiaries</th>\n",
              "      <th>MAT</th>\n",
              "      <th>Annotation</th>\n",
              "      <th>Annotation Description</th>\n",
              "    </tr>\n",
              "  </thead>\n",
              "  <tbody>\n",
              "    <tr>\n",
              "      <th>0</th>\n",
              "      <td>Statewide</td>\n",
              "      <td>2010</td>\n",
              "      <td>1268.0</td>\n",
              "      <td>Buprenorphine</td>\n",
              "      <td>None</td>\n",
              "      <td>None</td>\n",
              "    </tr>\n",
              "    <tr>\n",
              "      <th>1</th>\n",
              "      <td>Statewide</td>\n",
              "      <td>2011</td>\n",
              "      <td>1551.0</td>\n",
              "      <td>Buprenorphine</td>\n",
              "      <td>None</td>\n",
              "      <td>None</td>\n",
              "    </tr>\n",
              "    <tr>\n",
              "      <th>2</th>\n",
              "      <td>Statewide</td>\n",
              "      <td>2012</td>\n",
              "      <td>1837.0</td>\n",
              "      <td>Buprenorphine</td>\n",
              "      <td>None</td>\n",
              "      <td>None</td>\n",
              "    </tr>\n",
              "    <tr>\n",
              "      <th>3</th>\n",
              "      <td>Statewide</td>\n",
              "      <td>2013</td>\n",
              "      <td>1855.0</td>\n",
              "      <td>Buprenorphine</td>\n",
              "      <td>None</td>\n",
              "      <td>None</td>\n",
              "    </tr>\n",
              "    <tr>\n",
              "      <th>4</th>\n",
              "      <td>Statewide</td>\n",
              "      <td>2014</td>\n",
              "      <td>4518.0</td>\n",
              "      <td>Buprenorphine</td>\n",
              "      <td>None</td>\n",
              "      <td>None</td>\n",
              "    </tr>\n",
              "    <tr>\n",
              "      <th>5</th>\n",
              "      <td>Statewide</td>\n",
              "      <td>2015</td>\n",
              "      <td>8633.0</td>\n",
              "      <td>Buprenorphine</td>\n",
              "      <td>None</td>\n",
              "      <td>None</td>\n",
              "    </tr>\n",
              "    <tr>\n",
              "      <th>6</th>\n",
              "      <td>Statewide</td>\n",
              "      <td>2016</td>\n",
              "      <td>12876.0</td>\n",
              "      <td>Buprenorphine</td>\n",
              "      <td>None</td>\n",
              "      <td>None</td>\n",
              "    </tr>\n",
              "    <tr>\n",
              "      <th>7</th>\n",
              "      <td>Statewide</td>\n",
              "      <td>2017</td>\n",
              "      <td>16797.0</td>\n",
              "      <td>Buprenorphine</td>\n",
              "      <td>None</td>\n",
              "      <td>None</td>\n",
              "    </tr>\n",
              "    <tr>\n",
              "      <th>8</th>\n",
              "      <td>Statewide</td>\n",
              "      <td>2018</td>\n",
              "      <td>21216.0</td>\n",
              "      <td>Buprenorphine</td>\n",
              "      <td>None</td>\n",
              "      <td>None</td>\n",
              "    </tr>\n",
              "    <tr>\n",
              "      <th>477</th>\n",
              "      <td>Statewide</td>\n",
              "      <td>2010</td>\n",
              "      <td>20439.0</td>\n",
              "      <td>Methadone Program</td>\n",
              "      <td>None</td>\n",
              "      <td>None</td>\n",
              "    </tr>\n",
              "  </tbody>\n",
              "</table>\n",
              "</div>"
            ],
            "text/plain": [
              "        County  Year  ...  Annotation Annotation Description\n",
              "0    Statewide  2010  ...        None                   None\n",
              "1    Statewide  2011  ...        None                   None\n",
              "2    Statewide  2012  ...        None                   None\n",
              "3    Statewide  2013  ...        None                   None\n",
              "4    Statewide  2014  ...        None                   None\n",
              "5    Statewide  2015  ...        None                   None\n",
              "6    Statewide  2016  ...        None                   None\n",
              "7    Statewide  2017  ...        None                   None\n",
              "8    Statewide  2018  ...        None                   None\n",
              "477  Statewide  2010  ...        None                   None\n",
              "\n",
              "[10 rows x 6 columns]"
            ]
          },
          "metadata": {
            "tags": []
          },
          "execution_count": 47
        }
      ]
    },
    {
      "cell_type": "markdown",
      "metadata": {
        "id": "to2zgSNsMrjy",
        "colab_type": "text"
      },
      "source": [
        "4.2. Drop unwanted columns from CA_MAT data frame."
      ]
    },
    {
      "cell_type": "code",
      "metadata": {
        "id": "e4uQWvVtMyj5",
        "colab_type": "code",
        "outputId": "4ff0cea5-0a1f-44d8-bf3d-9c629bed82af",
        "colab": {
          "base_uri": "https://localhost:8080/",
          "height": 195
        }
      },
      "source": [
        "CA_MAT = CA_MAT.drop([\"County\", 'Annotation', \"Annotation Description\"], axis=1)\n",
        "CA_MAT.head()"
      ],
      "execution_count": 0,
      "outputs": [
        {
          "output_type": "execute_result",
          "data": {
            "text/html": [
              "<div>\n",
              "<style scoped>\n",
              "    .dataframe tbody tr th:only-of-type {\n",
              "        vertical-align: middle;\n",
              "    }\n",
              "\n",
              "    .dataframe tbody tr th {\n",
              "        vertical-align: top;\n",
              "    }\n",
              "\n",
              "    .dataframe thead th {\n",
              "        text-align: right;\n",
              "    }\n",
              "</style>\n",
              "<table border=\"1\" class=\"dataframe\">\n",
              "  <thead>\n",
              "    <tr style=\"text-align: right;\">\n",
              "      <th></th>\n",
              "      <th>Year</th>\n",
              "      <th>Beneficiaries</th>\n",
              "      <th>MAT</th>\n",
              "    </tr>\n",
              "  </thead>\n",
              "  <tbody>\n",
              "    <tr>\n",
              "      <th>0</th>\n",
              "      <td>2010</td>\n",
              "      <td>1268.0</td>\n",
              "      <td>Buprenorphine</td>\n",
              "    </tr>\n",
              "    <tr>\n",
              "      <th>1</th>\n",
              "      <td>2011</td>\n",
              "      <td>1551.0</td>\n",
              "      <td>Buprenorphine</td>\n",
              "    </tr>\n",
              "    <tr>\n",
              "      <th>2</th>\n",
              "      <td>2012</td>\n",
              "      <td>1837.0</td>\n",
              "      <td>Buprenorphine</td>\n",
              "    </tr>\n",
              "    <tr>\n",
              "      <th>3</th>\n",
              "      <td>2013</td>\n",
              "      <td>1855.0</td>\n",
              "      <td>Buprenorphine</td>\n",
              "    </tr>\n",
              "    <tr>\n",
              "      <th>4</th>\n",
              "      <td>2014</td>\n",
              "      <td>4518.0</td>\n",
              "      <td>Buprenorphine</td>\n",
              "    </tr>\n",
              "  </tbody>\n",
              "</table>\n",
              "</div>"
            ],
            "text/plain": [
              "   Year  Beneficiaries            MAT\n",
              "0  2010         1268.0  Buprenorphine\n",
              "1  2011         1551.0  Buprenorphine\n",
              "2  2012         1837.0  Buprenorphine\n",
              "3  2013         1855.0  Buprenorphine\n",
              "4  2014         4518.0  Buprenorphine"
            ]
          },
          "metadata": {
            "tags": []
          },
          "execution_count": 48
        }
      ]
    },
    {
      "cell_type": "markdown",
      "metadata": {
        "id": "YCcz_KTNNYIc",
        "colab_type": "text"
      },
      "source": [
        "4.3. Explore Data."
      ]
    },
    {
      "cell_type": "code",
      "metadata": {
        "id": "VsXis52GNO6N",
        "colab_type": "code",
        "outputId": "9bb46787-a7f5-4c80-a62a-318e6ea0c23b",
        "colab": {
          "base_uri": "https://localhost:8080/",
          "height": 279
        }
      },
      "source": [
        "ax = sns.boxplot(y=\"Beneficiaries\", x = \"Year\", data=CA_MAT)"
      ],
      "execution_count": 0,
      "outputs": [
        {
          "output_type": "display_data",
          "data": {
            "image/png": "[encoded data removed]",
            "text/plain": [
              "<Figure size 432x288 with 1 Axes>"
            ]
          },
          "metadata": {
            "tags": []
          }
        }
      ]
    },
    {
      "cell_type": "code",
      "metadata": {
        "id": "gNE6mJiBNj6j",
        "colab_type": "code",
        "outputId": "4c75e3d0-5162-4c5f-ee84-52ed3fafbb36",
        "colab": {
          "base_uri": "https://localhost:8080/",
          "height": 279
        }
      },
      "source": [
        "ax = sns.boxplot(y=\"Beneficiaries\", x = \"MAT\", data=CA_MAT)"
      ],
      "execution_count": 0,
      "outputs": [
        {
          "output_type": "display_data",
          "data": {
            "image/png": "[encoded data removed]",
            "text/plain": [
              "<Figure size 432x288 with 1 Axes>"
            ]
          },
          "metadata": {
            "tags": []
          }
        }
      ]
    },
    {
      "cell_type": "code",
      "metadata": {
        "id": "IhDHzhx4N10Q",
        "colab_type": "code",
        "outputId": "555dc559-bab7-47cd-c200-d525ca7031d7",
        "colab": {
          "base_uri": "https://localhost:8080/",
          "height": 279
        }
      },
      "source": [
        "ax = sns.scatterplot(y=\"Beneficiaries\", x = \"Year\", hue= 'MAT', data=CA_MAT)"
      ],
      "execution_count": 0,
      "outputs": [
        {
          "output_type": "display_data",
          "data": {
            "image/png": "[encoded data removed]",
            "text/plain": [
              "<Figure size 432x288 with 1 Axes>"
            ]
          },
          "metadata": {
            "tags": []
          }
        }
      ]
    },
    {
      "cell_type": "markdown",
      "metadata": {
        "id": "R7vG57rSN5zo",
        "colab_type": "text"
      },
      "source": [
        "4.4. Group all MAT treatments together, by year.\n",
        "\n"
      ]
    },
    {
      "cell_type": "code",
      "metadata": {
        "id": "bpAx4VC3OAB3",
        "colab_type": "code",
        "outputId": "fade923b-aca0-4de8-b65e-7aa10e870184",
        "colab": {
          "base_uri": "https://localhost:8080/",
          "height": 195
        }
      },
      "source": [
        "CA_MAT_yearly = CA_MAT.groupby('Year').agg('sum').reset_index()\n",
        "CA_MAT_yearly.head()"
      ],
      "execution_count": 0,
      "outputs": [
        {
          "output_type": "execute_result",
          "data": {
            "text/html": [
              "<div>\n",
              "<style scoped>\n",
              "    .dataframe tbody tr th:only-of-type {\n",
              "        vertical-align: middle;\n",
              "    }\n",
              "\n",
              "    .dataframe tbody tr th {\n",
              "        vertical-align: top;\n",
              "    }\n",
              "\n",
              "    .dataframe thead th {\n",
              "        text-align: right;\n",
              "    }\n",
              "</style>\n",
              "<table border=\"1\" class=\"dataframe\">\n",
              "  <thead>\n",
              "    <tr style=\"text-align: right;\">\n",
              "      <th></th>\n",
              "      <th>Year</th>\n",
              "      <th>Beneficiaries</th>\n",
              "    </tr>\n",
              "  </thead>\n",
              "  <tbody>\n",
              "    <tr>\n",
              "      <th>0</th>\n",
              "      <td>2010</td>\n",
              "      <td>21728.0</td>\n",
              "    </tr>\n",
              "    <tr>\n",
              "      <th>1</th>\n",
              "      <td>2011</td>\n",
              "      <td>22846.0</td>\n",
              "    </tr>\n",
              "    <tr>\n",
              "      <th>2</th>\n",
              "      <td>2012</td>\n",
              "      <td>23654.0</td>\n",
              "    </tr>\n",
              "    <tr>\n",
              "      <th>3</th>\n",
              "      <td>2013</td>\n",
              "      <td>24238.0</td>\n",
              "    </tr>\n",
              "    <tr>\n",
              "      <th>4</th>\n",
              "      <td>2014</td>\n",
              "      <td>43112.0</td>\n",
              "    </tr>\n",
              "  </tbody>\n",
              "</table>\n",
              "</div>"
            ],
            "text/plain": [
              "   Year  Beneficiaries\n",
              "0  2010        21728.0\n",
              "1  2011        22846.0\n",
              "2  2012        23654.0\n",
              "3  2013        24238.0\n",
              "4  2014        43112.0"
            ]
          },
          "metadata": {
            "tags": []
          },
          "execution_count": 43
        }
      ]
    },
    {
      "cell_type": "code",
      "metadata": {
        "id": "Mr2mxMdMOMMZ",
        "colab_type": "code",
        "outputId": "696665b0-9436-494d-9527-f74888d05710",
        "colab": {
          "base_uri": "https://localhost:8080/",
          "height": 280
        }
      },
      "source": [
        "ax = sns.scatterplot(y=\"Beneficiaries\", x = \"Year\", data=CA_MAT_yearly)"
      ],
      "execution_count": 0,
      "outputs": [
        {
          "output_type": "display_data",
          "data": {
            "image/png": "[encoded data removed]",
            "text/plain": [
              "<Figure size 432x288 with 1 Axes>"
            ]
          },
          "metadata": {
            "tags": []
          }
        }
      ]
    },
    {
      "cell_type": "markdown",
      "metadata": {
        "id": "dD9ennYsORG_",
        "colab_type": "text"
      },
      "source": [
        "4.5. Extract yearly data from OD_CA"
      ]
    },
    {
      "cell_type": "code",
      "metadata": {
        "id": "vdiYaP2OOVgi",
        "colab_type": "code",
        "outputId": "9ebb9f29-996d-4ad2-d13e-30d2b5c6c224",
        "colab": {
          "base_uri": "https://localhost:8080/",
          "height": 195
        }
      },
      "source": [
        "OD_CA_yearly = OD_CA.groupby('Year').agg('sum').reset_index()\n",
        "OD_CA_yearly.head()"
      ],
      "execution_count": 0,
      "outputs": [
        {
          "output_type": "execute_result",
          "data": {
            "text/html": [
              "<div>\n",
              "<style scoped>\n",
              "    .dataframe tbody tr th:only-of-type {\n",
              "        vertical-align: middle;\n",
              "    }\n",
              "\n",
              "    .dataframe tbody tr th {\n",
              "        vertical-align: top;\n",
              "    }\n",
              "\n",
              "    .dataframe thead th {\n",
              "        text-align: right;\n",
              "    }\n",
              "</style>\n",
              "<table border=\"1\" class=\"dataframe\">\n",
              "  <thead>\n",
              "    <tr style=\"text-align: right;\">\n",
              "      <th></th>\n",
              "      <th>Year</th>\n",
              "      <th>Month</th>\n",
              "      <th>AllDeaths</th>\n",
              "      <th>ODDeaths</th>\n",
              "      <th>percentOD</th>\n",
              "    </tr>\n",
              "  </thead>\n",
              "  <tbody>\n",
              "    <tr>\n",
              "      <th>0</th>\n",
              "      <td>2015</td>\n",
              "      <td>78</td>\n",
              "      <td>3056952.0</td>\n",
              "      <td>56001.0</td>\n",
              "      <td>21.983580</td>\n",
              "    </tr>\n",
              "    <tr>\n",
              "      <th>1</th>\n",
              "      <td>2016</td>\n",
              "      <td>78</td>\n",
              "      <td>3139581.0</td>\n",
              "      <td>57154.0</td>\n",
              "      <td>21.845712</td>\n",
              "    </tr>\n",
              "    <tr>\n",
              "      <th>2</th>\n",
              "      <td>2017</td>\n",
              "      <td>78</td>\n",
              "      <td>3202053.0</td>\n",
              "      <td>58406.0</td>\n",
              "      <td>21.885766</td>\n",
              "    </tr>\n",
              "    <tr>\n",
              "      <th>3</th>\n",
              "      <td>2018</td>\n",
              "      <td>78</td>\n",
              "      <td>3262105.0</td>\n",
              "      <td>63121.0</td>\n",
              "      <td>23.220583</td>\n",
              "    </tr>\n",
              "    <tr>\n",
              "      <th>4</th>\n",
              "      <td>2019</td>\n",
              "      <td>28</td>\n",
              "      <td>1871340.0</td>\n",
              "      <td>39469.0</td>\n",
              "      <td>14.763312</td>\n",
              "    </tr>\n",
              "  </tbody>\n",
              "</table>\n",
              "</div>"
            ],
            "text/plain": [
              "   Year  Month  AllDeaths  ODDeaths  percentOD\n",
              "0  2015     78  3056952.0   56001.0  21.983580\n",
              "1  2016     78  3139581.0   57154.0  21.845712\n",
              "2  2017     78  3202053.0   58406.0  21.885766\n",
              "3  2018     78  3262105.0   63121.0  23.220583\n",
              "4  2019     28  1871340.0   39469.0  14.763312"
            ]
          },
          "metadata": {
            "tags": []
          },
          "execution_count": 45
        }
      ]
    },
    {
      "cell_type": "code",
      "metadata": {
        "id": "ATAzcYZfOoHb",
        "colab_type": "code",
        "outputId": "e66a415a-a485-4ad1-a4f7-300188a5b527",
        "colab": {
          "base_uri": "https://localhost:8080/",
          "height": 195
        }
      },
      "source": [
        "OD_CA_yearly['percentOD'] = (OD_CA_yearly.ODDeaths * 100/OD_CA_yearly.AllDeaths)\n",
        "OD_CA_yearly.head()"
      ],
      "execution_count": 0,
      "outputs": [
        {
          "output_type": "execute_result",
          "data": {
            "text/html": [
              "<div>\n",
              "<style scoped>\n",
              "    .dataframe tbody tr th:only-of-type {\n",
              "        vertical-align: middle;\n",
              "    }\n",
              "\n",
              "    .dataframe tbody tr th {\n",
              "        vertical-align: top;\n",
              "    }\n",
              "\n",
              "    .dataframe thead th {\n",
              "        text-align: right;\n",
              "    }\n",
              "</style>\n",
              "<table border=\"1\" class=\"dataframe\">\n",
              "  <thead>\n",
              "    <tr style=\"text-align: right;\">\n",
              "      <th></th>\n",
              "      <th>Year</th>\n",
              "      <th>Month</th>\n",
              "      <th>AllDeaths</th>\n",
              "      <th>ODDeaths</th>\n",
              "      <th>percentOD</th>\n",
              "    </tr>\n",
              "  </thead>\n",
              "  <tbody>\n",
              "    <tr>\n",
              "      <th>0</th>\n",
              "      <td>2015</td>\n",
              "      <td>78</td>\n",
              "      <td>3056952.0</td>\n",
              "      <td>56001.0</td>\n",
              "      <td>1.831923</td>\n",
              "    </tr>\n",
              "    <tr>\n",
              "      <th>1</th>\n",
              "      <td>2016</td>\n",
              "      <td>78</td>\n",
              "      <td>3139581.0</td>\n",
              "      <td>57154.0</td>\n",
              "      <td>1.820434</td>\n",
              "    </tr>\n",
              "    <tr>\n",
              "      <th>2</th>\n",
              "      <td>2017</td>\n",
              "      <td>78</td>\n",
              "      <td>3202053.0</td>\n",
              "      <td>58406.0</td>\n",
              "      <td>1.824017</td>\n",
              "    </tr>\n",
              "    <tr>\n",
              "      <th>3</th>\n",
              "      <td>2018</td>\n",
              "      <td>78</td>\n",
              "      <td>3262105.0</td>\n",
              "      <td>63121.0</td>\n",
              "      <td>1.934978</td>\n",
              "    </tr>\n",
              "    <tr>\n",
              "      <th>4</th>\n",
              "      <td>2019</td>\n",
              "      <td>28</td>\n",
              "      <td>1871340.0</td>\n",
              "      <td>39469.0</td>\n",
              "      <td>2.109130</td>\n",
              "    </tr>\n",
              "  </tbody>\n",
              "</table>\n",
              "</div>"
            ],
            "text/plain": [
              "   Year  Month  AllDeaths  ODDeaths  percentOD\n",
              "0  2015     78  3056952.0   56001.0   1.831923\n",
              "1  2016     78  3139581.0   57154.0   1.820434\n",
              "2  2017     78  3202053.0   58406.0   1.824017\n",
              "3  2018     78  3262105.0   63121.0   1.934978\n",
              "4  2019     28  1871340.0   39469.0   2.109130"
            ]
          },
          "metadata": {
            "tags": []
          },
          "execution_count": 46
        }
      ]
    },
    {
      "cell_type": "markdown",
      "metadata": {
        "id": "kuhp1oIpPNN4",
        "colab_type": "text"
      },
      "source": [
        "4.6. Extract OD_CA data from CDC data."
      ]
    },
    {
      "cell_type": "code",
      "metadata": {
        "id": "xdWFmlCBPU02",
        "colab_type": "code",
        "outputId": "609b2bb9-55ab-4cb1-e726-92662954da35",
        "colab": {
          "base_uri": "https://localhost:8080/",
          "height": 195
        }
      },
      "source": [
        "OD_deaths = CDC_state_deaths[CDC_state_deaths['Indicator']=='Number of Drug Overdose Deaths']\n",
        "all_deaths = CDC_state_deaths[CDC_state_deaths['Indicator']=='Number of Deaths']\n",
        "OD_deaths_clean = OD_deaths.drop([\"Period\", 'Indicator', \"Percent Complete\", 'Percent Pending Investigation', 'State Name', 'Footnote', 'Footnote Symbol', 'Predicted Value'], axis=1)\n",
        "OD_deaths_clean.rename(columns={'Data Value':'ODDeaths'}, inplace=True)\n",
        "all_deaths_clean = all_deaths.drop([\"Period\", 'Indicator', \"Percent Complete\", 'Percent Pending Investigation', 'State Name', 'Footnote', 'Footnote Symbol', 'Predicted Value'], axis=1)\n",
        "all_deaths_clean.rename(columns={'Data Value':'AllDeaths'}, inplace=True)\n",
        "state_OD_all_deaths = all_deaths_clean.merge(OD_deaths_clean, how = 'inner', on = ['State', 'Year', 'Month'])\n",
        "OD_CA = state_OD_all_deaths.iloc[(state_OD_all_deaths['State'] == 'CA').values]\n",
        "OD_CA.head()"
      ],
      "execution_count": 0,
      "outputs": [
        {
          "output_type": "execute_result",
          "data": {
            "text/html": [
              "<div>\n",
              "<style scoped>\n",
              "    .dataframe tbody tr th:only-of-type {\n",
              "        vertical-align: middle;\n",
              "    }\n",
              "\n",
              "    .dataframe tbody tr th {\n",
              "        vertical-align: top;\n",
              "    }\n",
              "\n",
              "    .dataframe thead th {\n",
              "        text-align: right;\n",
              "    }\n",
              "</style>\n",
              "<table border=\"1\" class=\"dataframe\">\n",
              "  <thead>\n",
              "    <tr style=\"text-align: right;\">\n",
              "      <th></th>\n",
              "      <th>State</th>\n",
              "      <th>Year</th>\n",
              "      <th>Month</th>\n",
              "      <th>AllDeaths</th>\n",
              "      <th>ODDeaths</th>\n",
              "    </tr>\n",
              "  </thead>\n",
              "  <tbody>\n",
              "    <tr>\n",
              "      <th>220</th>\n",
              "      <td>CA</td>\n",
              "      <td>2015</td>\n",
              "      <td>April</td>\n",
              "      <td>252831.0</td>\n",
              "      <td>4625.0</td>\n",
              "    </tr>\n",
              "    <tr>\n",
              "      <th>221</th>\n",
              "      <td>CA</td>\n",
              "      <td>2015</td>\n",
              "      <td>August</td>\n",
              "      <td>256464.0</td>\n",
              "      <td>4670.0</td>\n",
              "    </tr>\n",
              "    <tr>\n",
              "      <th>222</th>\n",
              "      <td>CA</td>\n",
              "      <td>2015</td>\n",
              "      <td>December</td>\n",
              "      <td>260172.0</td>\n",
              "      <td>4762.0</td>\n",
              "    </tr>\n",
              "    <tr>\n",
              "      <th>223</th>\n",
              "      <td>CA</td>\n",
              "      <td>2015</td>\n",
              "      <td>February</td>\n",
              "      <td>249920.0</td>\n",
              "      <td>4616.0</td>\n",
              "    </tr>\n",
              "    <tr>\n",
              "      <th>224</th>\n",
              "      <td>CA</td>\n",
              "      <td>2015</td>\n",
              "      <td>January</td>\n",
              "      <td>248191.0</td>\n",
              "      <td>4603.0</td>\n",
              "    </tr>\n",
              "  </tbody>\n",
              "</table>\n",
              "</div>"
            ],
            "text/plain": [
              "    State  Year     Month  AllDeaths  ODDeaths\n",
              "220    CA  2015     April   252831.0    4625.0\n",
              "221    CA  2015    August   256464.0    4670.0\n",
              "222    CA  2015  December   260172.0    4762.0\n",
              "223    CA  2015  February   249920.0    4616.0\n",
              "224    CA  2015   January   248191.0    4603.0"
            ]
          },
          "metadata": {
            "tags": []
          },
          "execution_count": 52
        }
      ]
    },
    {
      "cell_type": "markdown",
      "metadata": {
        "id": "BiHj3fBuPlfE",
        "colab_type": "text"
      },
      "source": [
        "4.7. Get yearly deaths, and percent OD.  "
      ]
    },
    {
      "cell_type": "code",
      "metadata": {
        "id": "uf91OVTBPvdd",
        "colab_type": "code",
        "outputId": "b2e6054d-b919-4dcf-acbc-74e3d6707806",
        "colab": {
          "base_uri": "https://localhost:8080/",
          "height": 195
        }
      },
      "source": [
        "OD_CA_yearly = OD_CA.groupby('Year').agg('sum').reset_index()\n",
        "OD_CA_yearly['percentOD'] = (OD_CA_yearly.ODDeaths * 100/OD_CA_yearly.AllDeaths)\n",
        "OD_CA_yearly.head()"
      ],
      "execution_count": 0,
      "outputs": [
        {
          "output_type": "execute_result",
          "data": {
            "text/html": [
              "<div>\n",
              "<style scoped>\n",
              "    .dataframe tbody tr th:only-of-type {\n",
              "        vertical-align: middle;\n",
              "    }\n",
              "\n",
              "    .dataframe tbody tr th {\n",
              "        vertical-align: top;\n",
              "    }\n",
              "\n",
              "    .dataframe thead th {\n",
              "        text-align: right;\n",
              "    }\n",
              "</style>\n",
              "<table border=\"1\" class=\"dataframe\">\n",
              "  <thead>\n",
              "    <tr style=\"text-align: right;\">\n",
              "      <th></th>\n",
              "      <th>Year</th>\n",
              "      <th>AllDeaths</th>\n",
              "      <th>ODDeaths</th>\n",
              "      <th>percentOD</th>\n",
              "    </tr>\n",
              "  </thead>\n",
              "  <tbody>\n",
              "    <tr>\n",
              "      <th>0</th>\n",
              "      <td>2015</td>\n",
              "      <td>3056952.0</td>\n",
              "      <td>56001.0</td>\n",
              "      <td>1.831923</td>\n",
              "    </tr>\n",
              "    <tr>\n",
              "      <th>1</th>\n",
              "      <td>2016</td>\n",
              "      <td>3139581.0</td>\n",
              "      <td>57154.0</td>\n",
              "      <td>1.820434</td>\n",
              "    </tr>\n",
              "    <tr>\n",
              "      <th>2</th>\n",
              "      <td>2017</td>\n",
              "      <td>3202053.0</td>\n",
              "      <td>58406.0</td>\n",
              "      <td>1.824017</td>\n",
              "    </tr>\n",
              "    <tr>\n",
              "      <th>3</th>\n",
              "      <td>2018</td>\n",
              "      <td>3262105.0</td>\n",
              "      <td>63121.0</td>\n",
              "      <td>1.934978</td>\n",
              "    </tr>\n",
              "    <tr>\n",
              "      <th>4</th>\n",
              "      <td>2019</td>\n",
              "      <td>1871340.0</td>\n",
              "      <td>39469.0</td>\n",
              "      <td>2.109130</td>\n",
              "    </tr>\n",
              "  </tbody>\n",
              "</table>\n",
              "</div>"
            ],
            "text/plain": [
              "   Year  AllDeaths  ODDeaths  percentOD\n",
              "0  2015  3056952.0   56001.0   1.831923\n",
              "1  2016  3139581.0   57154.0   1.820434\n",
              "2  2017  3202053.0   58406.0   1.824017\n",
              "3  2018  3262105.0   63121.0   1.934978\n",
              "4  2019  1871340.0   39469.0   2.109130"
            ]
          },
          "metadata": {
            "tags": []
          },
          "execution_count": 53
        }
      ]
    },
    {
      "cell_type": "markdown",
      "metadata": {
        "id": "bTfUm9tIP47d",
        "colab_type": "text"
      },
      "source": [
        "4.8. Merge yearly deaths (OD_CA_yearly) and MAT beneficiaries (CA_MAT_yearly) dataframes."
      ]
    },
    {
      "cell_type": "code",
      "metadata": {
        "id": "9YLG_vQ4P8xS",
        "colab_type": "code",
        "outputId": "3a17403a-88bd-40be-f7e2-3401ef31575e",
        "colab": {
          "base_uri": "https://localhost:8080/",
          "height": 166
        }
      },
      "source": [
        "CA_MAT_OD = pd.merge(OD_CA_yearly, CA_MAT_yearly)\n",
        "CA_MAT_OD.head()"
      ],
      "execution_count": 0,
      "outputs": [
        {
          "output_type": "execute_result",
          "data": {
            "text/html": [
              "<div>\n",
              "<style scoped>\n",
              "    .dataframe tbody tr th:only-of-type {\n",
              "        vertical-align: middle;\n",
              "    }\n",
              "\n",
              "    .dataframe tbody tr th {\n",
              "        vertical-align: top;\n",
              "    }\n",
              "\n",
              "    .dataframe thead th {\n",
              "        text-align: right;\n",
              "    }\n",
              "</style>\n",
              "<table border=\"1\" class=\"dataframe\">\n",
              "  <thead>\n",
              "    <tr style=\"text-align: right;\">\n",
              "      <th></th>\n",
              "      <th>Year</th>\n",
              "      <th>AllDeaths</th>\n",
              "      <th>ODDeaths</th>\n",
              "      <th>percentOD</th>\n",
              "      <th>Beneficiaries</th>\n",
              "    </tr>\n",
              "  </thead>\n",
              "  <tbody>\n",
              "    <tr>\n",
              "      <th>0</th>\n",
              "      <td>2015</td>\n",
              "      <td>3056952.0</td>\n",
              "      <td>56001.0</td>\n",
              "      <td>1.831923</td>\n",
              "      <td>53263.0</td>\n",
              "    </tr>\n",
              "    <tr>\n",
              "      <th>1</th>\n",
              "      <td>2016</td>\n",
              "      <td>3139581.0</td>\n",
              "      <td>57154.0</td>\n",
              "      <td>1.820434</td>\n",
              "      <td>60811.0</td>\n",
              "    </tr>\n",
              "    <tr>\n",
              "      <th>2</th>\n",
              "      <td>2017</td>\n",
              "      <td>3202053.0</td>\n",
              "      <td>58406.0</td>\n",
              "      <td>1.824017</td>\n",
              "      <td>67592.0</td>\n",
              "    </tr>\n",
              "    <tr>\n",
              "      <th>3</th>\n",
              "      <td>2018</td>\n",
              "      <td>3262105.0</td>\n",
              "      <td>63121.0</td>\n",
              "      <td>1.934978</td>\n",
              "      <td>78070.0</td>\n",
              "    </tr>\n",
              "  </tbody>\n",
              "</table>\n",
              "</div>"
            ],
            "text/plain": [
              "   Year  AllDeaths  ODDeaths  percentOD  Beneficiaries\n",
              "0  2015  3056952.0   56001.0   1.831923        53263.0\n",
              "1  2016  3139581.0   57154.0   1.820434        60811.0\n",
              "2  2017  3202053.0   58406.0   1.824017        67592.0\n",
              "3  2018  3262105.0   63121.0   1.934978        78070.0"
            ]
          },
          "metadata": {
            "tags": []
          },
          "execution_count": 54
        }
      ]
    },
    {
      "cell_type": "markdown",
      "metadata": {
        "id": "z7TwRQT7QN44",
        "colab_type": "text"
      },
      "source": [
        "4.9. Explore Data."
      ]
    },
    {
      "cell_type": "code",
      "metadata": {
        "id": "LPr7_xZqQS3I",
        "colab_type": "code",
        "outputId": "f0aa81b6-b21e-4fb5-d0a3-325d16258698",
        "colab": {
          "base_uri": "https://localhost:8080/",
          "height": 279
        }
      },
      "source": [
        "ax = sns.scatterplot(y=\"ODDeaths\", x = \"Beneficiaries\", data=CA_MAT_OD)"
      ],
      "execution_count": 0,
      "outputs": [
        {
          "output_type": "display_data",
          "data": {
            "image/png": "[encoded data removed]",
            "text/plain": [
              "<Figure size 432x288 with 1 Axes>"
            ]
          },
          "metadata": {
            "tags": []
          }
        }
      ]
    },
    {
      "cell_type": "code",
      "metadata": {
        "id": "mkP1mMydQZlP",
        "colab_type": "code",
        "outputId": "f9947d42-a760-4b62-c520-a14ab01b8e00",
        "colab": {
          "base_uri": "https://localhost:8080/",
          "height": 34
        }
      },
      "source": [
        "stats.pearsonr(CA_MAT_OD['ODDeaths'], CA_MAT_OD['Beneficiaries'])"
      ],
      "execution_count": 0,
      "outputs": [
        {
          "output_type": "execute_result",
          "data": {
            "text/plain": [
              "(0.9636496457992121, 0.036350354200787915)"
            ]
          },
          "metadata": {
            "tags": []
          },
          "execution_count": 56
        }
      ]
    },
    {
      "cell_type": "markdown",
      "metadata": {
        "id": "1bLEhCvv-89P",
        "colab_type": "text"
      },
      "source": [
        "Contrary to the hypothesis, OD deaths and MAT are positively correlated. However, we should look at number of people with OUD also."
      ]
    }
  ]
}